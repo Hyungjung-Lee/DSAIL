{
 "cells": [
  {
   "cell_type": "markdown",
   "metadata": {
    "collapsed": true,
    "pycharm": {
     "name": "#%% md\n"
    }
   },
   "source": [
    "# Header Import"
   ]
  },
  {
   "cell_type": "code",
   "execution_count": null,
   "outputs": [],
   "source": [
    "from sklearn.feature_extraction.text import TfidfVectorizer\n",
    "from sklearn.datasets import fetch_20newsgroups\n",
    "from nltk.corpus import names\n",
    "from nltk.stem import WordNetLemmatizer"
   ],
   "metadata": {
    "collapsed": false,
    "pycharm": {
     "name": "#%%\n",
     "is_executing": true
    }
   }
  },
  {
   "cell_type": "markdown",
   "source": [
    "# Dataset Load"
   ],
   "metadata": {
    "collapsed": false
   }
  },
  {
   "cell_type": "code",
   "execution_count": 2,
   "outputs": [],
   "source": [
    "all_names = set(names.words())\n",
    "lemmatizer = WordNetLemmatizer()"
   ],
   "metadata": {
    "collapsed": false,
    "pycharm": {
     "name": "#%%\n"
    }
   }
  },
  {
   "cell_type": "markdown",
   "source": [
    "# Clean Data function"
   ],
   "metadata": {
    "collapsed": false,
    "pycharm": {
     "name": "#%% md\n"
    }
   }
  },
  {
   "cell_type": "code",
   "execution_count": 3,
   "outputs": [],
   "source": [
    "def letters_only(astr):\n",
    "    for c in astr:\n",
    "        if not c.isalpha():\n",
    "            return False\n",
    "    return True\n",
    "\n",
    "def clean_text(docs):\n",
    "    cleaned_docs = []\n",
    "    for doc in docs:\n",
    "        # 이름 지우기 lemmatizer 적용\n",
    "        cleaned_docs.append(' '.join([lemmatizer.lemmatize(word.lower())\n",
    "                                      for word in doc.split()\n",
    "                                      if letters_only(word)\n",
    "                                      and word not in all_names]))\n",
    "    return cleaned_docs\n"
   ],
   "metadata": {
    "collapsed": false,
    "pycharm": {
     "name": "#%%\n"
    }
   }
  },
  {
   "cell_type": "markdown",
   "source": [
    "# Binary classification"
   ],
   "metadata": {
    "collapsed": false,
    "pycharm": {
     "name": "#%% md\n"
    }
   }
  },
  {
   "cell_type": "code",
   "execution_count": 4,
   "outputs": [
    {
     "data": {
      "text/plain": "Counter({0: 584, 1: 593})"
     },
     "execution_count": 4,
     "metadata": {},
     "output_type": "execute_result"
    }
   ],
   "source": [
    "categories = ['comp.graphics', 'sci.space']\n",
    "\n",
    "data_train = fetch_20newsgroups(subset='train', categories=categories, random_state=42)\n",
    "data_test = fetch_20newsgroups(subset='test', categories=categories, random_state=42)\n",
    "\n",
    "cleaned_train = clean_text(data_train.data)\n",
    "label_train = data_train.target\n",
    "cleaned_test = clean_text(data_test.data)\n",
    "label_test = data_test.target\n",
    "\n",
    "from collections import Counter\n",
    "Counter(label_train)"
   ],
   "metadata": {
    "collapsed": false,
    "pycharm": {
     "name": "#%%\n"
    }
   }
  },
  {
   "cell_type": "markdown",
   "source": [
    "#TF-IDF"
   ],
   "metadata": {
    "collapsed": false,
    "pycharm": {
     "name": "#%% md\n"
    }
   }
  },
  {
   "cell_type": "code",
   "execution_count": 6,
   "outputs": [
    {
     "name": "stdout",
     "output_type": "stream",
     "text": [
      "  (0, 7926)\t0.10331909800580447\n",
      "  (0, 7807)\t0.09868520442742641\n",
      "  (0, 7572)\t0.0694259285030913\n",
      "  (0, 7421)\t0.13699310481566476\n",
      "  (0, 7367)\t0.1839946034462866\n",
      "  (0, 7358)\t0.10452562833087464\n",
      "  (0, 7357)\t0.08880138133525056\n",
      "  (0, 7030)\t0.18999929000748855\n",
      "  (0, 6941)\t0.1706407744832919\n",
      "  (0, 6154)\t0.13509167609333483\n",
      "  (0, 5763)\t0.1338541026818493\n",
      "  (0, 5731)\t0.14781225308827636\n",
      "  (0, 5572)\t0.149694742276498\n",
      "  (0, 5108)\t0.1706407744832919\n",
      "  (0, 4760)\t0.19346929587830744\n",
      "  (0, 4235)\t0.1973484324092813\n",
      "  (0, 4066)\t0.19346929587830744\n",
      "  (0, 3592)\t0.19346929587830744\n",
      "  (0, 3417)\t0.13634091331350331\n",
      "  (0, 3388)\t0.07711548318204789\n",
      "  (0, 3337)\t0.07347483136154573\n",
      "  (0, 3238)\t0.149694742276498\n",
      "  (0, 3096)\t0.1263854153407918\n",
      "  (0, 3087)\t0.24300547519931237\n",
      "  (0, 2838)\t0.1451760789597685\n",
      "  :\t:\n",
      "  (782, 1363)\t0.07071081558566485\n",
      "  (782, 1307)\t0.0891193447390158\n",
      "  (782, 1304)\t0.08097539638602044\n",
      "  (782, 1300)\t0.06996501438375423\n",
      "  (782, 1264)\t0.09033507127828737\n",
      "  (782, 1189)\t0.07960753768029177\n",
      "  (782, 1083)\t0.06032249108721669\n",
      "  (782, 943)\t0.08692878880931387\n",
      "  (782, 911)\t0.10967067199780568\n",
      "  (782, 910)\t0.09829973040355977\n",
      "  (782, 795)\t0.0916481559730355\n",
      "  (782, 753)\t0.0963675231367571\n",
      "  (782, 682)\t0.07555784721506797\n",
      "  (782, 490)\t0.0554519265301684\n",
      "  (782, 434)\t0.18568858908319924\n",
      "  (782, 430)\t0.09829973040355977\n",
      "  (782, 429)\t0.1815461210155236\n",
      "  (782, 428)\t0.08593425394978946\n",
      "  (782, 427)\t0.09463910483904872\n",
      "  (782, 422)\t0.18568858908319924\n",
      "  (782, 348)\t0.17306787618845937\n",
      "  (782, 227)\t0.1371032640857145\n",
      "  (782, 172)\t0.1210416135920516\n",
      "  (782, 96)\t0.066377461550524\n",
      "  (782, 83)\t0.11846106684168951\n"
     ]
    }
   ],
   "source": [
    "tfidf_vectorizer = TfidfVectorizer(sublinear_tf=True, max_df=0.5, stop_words='english', max_features=8000)\n",
    "term_docs_train = tfidf_vectorizer.fit_transform(cleaned_train)\n",
    "term_docs_test = tfidf_vectorizer.transform(cleaned_test)\n",
    "print(term_docs_test)"
   ],
   "metadata": {
    "collapsed": false,
    "pycharm": {
     "name": "#%%\n"
    }
   }
  },
  {
   "cell_type": "markdown",
   "source": [
    "#SVM Set up"
   ],
   "metadata": {
    "collapsed": false,
    "pycharm": {
     "name": "#%% md\n"
    }
   }
  },
  {
   "cell_type": "code",
   "execution_count": 8,
   "outputs": [],
   "source": [
    "from sklearn.svm import SVC\n",
    "svm = SVC(kernel='linear', C=1.0, random_state=42)"
   ],
   "metadata": {
    "collapsed": false,
    "pycharm": {
     "name": "#%%\n"
    }
   }
  },
  {
   "cell_type": "markdown",
   "source": [
    "#Fitting"
   ],
   "metadata": {
    "collapsed": false,
    "pycharm": {
     "name": "#%% md\n"
    }
   }
  },
  {
   "cell_type": "code",
   "execution_count": 9,
   "outputs": [
    {
     "name": "stdout",
     "output_type": "stream",
     "text": [
      "The accuracy on testing set is: 96.4%\n"
     ]
    }
   ],
   "source": [
    "svm.fit(term_docs_train, label_train)\n",
    "accuracy = svm.score(term_docs_test, label_test)\n",
    "print('The accuracy on testing set is: {0:.1f}%'.format(accuracy*100))"
   ],
   "metadata": {
    "collapsed": false,
    "pycharm": {
     "name": "#%%\n"
    }
   }
  },
  {
   "cell_type": "code",
   "execution_count": null,
   "outputs": [],
   "source": [],
   "metadata": {
    "collapsed": false,
    "pycharm": {
     "name": "#%%\n"
    }
   }
  }
 ],
 "metadata": {
  "kernelspec": {
   "display_name": "Python 3",
   "language": "python",
   "name": "python3"
  },
  "language_info": {
   "codemirror_mode": {
    "name": "ipython",
    "version": 2
   },
   "file_extension": ".py",
   "mimetype": "text/x-python",
   "name": "python",
   "nbconvert_exporter": "python",
   "pygments_lexer": "ipython2",
   "version": "2.7.6"
  }
 },
 "nbformat": 4,
 "nbformat_minor": 0
}