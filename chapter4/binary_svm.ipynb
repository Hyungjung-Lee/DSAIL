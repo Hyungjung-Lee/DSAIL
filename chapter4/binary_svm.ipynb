{
 "cells": [
  {
   "cell_type": "markdown",
   "metadata": {
    "collapsed": true,
    "pycharm": {
     "name": "#%% md\n"
    }
   },
   "source": [
    "# Header Import"
   ]
  },
  {
   "cell_type": "code",
   "execution_count": null,
   "outputs": [],
   "source": [
    "from sklearn.feature_extraction.text import TfidfVectorizer\n",
    "from sklearn.datasets import fetch_20newsgroups\n",
    "from nltk.corpus import names\n",
    "from nltk.stem import WordNetLemmatizer"
   ],
   "metadata": {
    "collapsed": false,
    "pycharm": {
     "name": "#%%\n",
     "is_executing": true
    }
   }
  },
  {
   "cell_type": "markdown",
   "source": [
    "# Dataset Load"
   ],
   "metadata": {
    "collapsed": false
   }
  },
  {
   "cell_type": "code",
   "execution_count": 2,
   "outputs": [],
   "source": [
    "all_names = set(names.words())\n",
    "lemmatizer = WordNetLemmatizer()"
   ],
   "metadata": {
    "collapsed": false,
    "pycharm": {
     "name": "#%%\n"
    }
   }
  },
  {
   "cell_type": "markdown",
   "source": [
    "# Clean Data function"
   ],
   "metadata": {
    "collapsed": false,
    "pycharm": {
     "name": "#%% md\n"
    }
   }
  },
  {
   "cell_type": "code",
   "execution_count": 3,
   "outputs": [],
   "source": [
    "def letters_only(astr):\n",
    "    for c in astr:\n",
    "        if not c.isalpha():\n",
    "            return False\n",
    "    return True\n",
    "\n",
    "def clean_text(docs):\n",
    "    cleaned_docs = []\n",
    "    for doc in docs:\n",
    "        # 이름 지우기 lemmatizer 적용\n",
    "        cleaned_docs.append(' '.join([lemmatizer.lemmatize(word.lower())\n",
    "                                      for word in doc.split()\n",
    "                                      if letters_only(word)\n",
    "                                      and word not in all_names]))\n",
    "    return cleaned_docs\n"
   ],
   "metadata": {
    "collapsed": false,
    "pycharm": {
     "name": "#%%\n"
    }
   }
  },
  {
   "cell_type": "markdown",
   "source": [
    "# Binary classification"
   ],
   "metadata": {
    "collapsed": false,
    "pycharm": {
     "name": "#%% md\n"
    }
   }
  },
  {
   "cell_type": "code",
   "execution_count": 4,
   "outputs": [
    {
     "data": {
      "text/plain": "Counter({0: 584, 1: 593})"
     },
     "execution_count": 4,
     "metadata": {},
     "output_type": "execute_result"
    }
   ],
   "source": [
    "categories = ['comp.graphics', 'sci.space']\n",
    "\n",
    "data_train = fetch_20newsgroups(subset='train', categories=categories, random_state=42)\n",
    "data_test = fetch_20newsgroups(subset='test', categories=categories, random_state=42)\n",
    "\n",
    "cleaned_train = clean_text(data_train.data)\n",
    "label_train = data_train.target\n",
    "cleaned_test = clean_text(data_test.data)\n",
    "label_test = data_test.target\n",
    "\n",
    "from collections import Counter\n",
    "Counter(label_train)"
   ],
   "metadata": {
    "collapsed": false,
    "pycharm": {
     "name": "#%%\n"
    }
   }
  },
  {
   "cell_type": "code",
   "execution_count": 12,
   "outputs": [
    {
     "data": {
      "text/plain": "array([0, 1, 0, ..., 0, 0, 1])"
     },
     "execution_count": 12,
     "metadata": {},
     "output_type": "execute_result"
    }
   ],
   "source": [
    "label_train"
   ],
   "metadata": {
    "collapsed": false,
    "pycharm": {
     "name": "#%%\n"
    }
   }
  },
  {
   "cell_type": "markdown",
   "source": [
    "#TF-IDF"
   ],
   "metadata": {
    "collapsed": false,
    "pycharm": {
     "name": "#%% md\n"
    }
   }
  },
  {
   "cell_type": "code",
   "execution_count": 15,
   "outputs": [
    {
     "name": "stdout",
     "output_type": "stream",
     "text": [
      "  (0, 3)\t0.1943234373521608\n",
      "  (0, 989)\t0.17745612097336405\n",
      "  (0, 3337)\t0.07640939630093298\n",
      "  (0, 2173)\t0.16112147463788695\n",
      "  (0, 3573)\t0.11838348731190705\n",
      "  (0, 490)\t0.11577270054822175\n",
      "  (0, 7710)\t0.19134329826197177\n",
      "  (0, 2636)\t0.23882387102172048\n",
      "  (0, 5186)\t0.1392001994260587\n",
      "  (0, 3521)\t0.13565393185264604\n",
      "  (0, 1363)\t0.14763025544055602\n",
      "  (0, 2967)\t0.12012243912234868\n",
      "  (0, 2640)\t0.11577270054822175\n",
      "  (0, 4464)\t0.10921540092393\n",
      "  (0, 6972)\t0.2527110483103282\n",
      "  (0, 2999)\t0.17673656075986588\n",
      "  (0, 2672)\t0.09783981925668135\n",
      "  (0, 7357)\t0.09234808454513324\n",
      "  (0, 7369)\t0.17058315097228646\n",
      "  (0, 3388)\t0.08019545477281471\n",
      "  (0, 2671)\t0.18860183605007147\n",
      "  (0, 3542)\t0.07640939630093298\n",
      "  (0, 2755)\t0.23882387102172048\n",
      "  (0, 4721)\t0.23882387102172048\n",
      "  (0, 4802)\t0.09765418198146887\n",
      "  :\t:\n",
      "  (1176, 315)\t0.10209046490055426\n",
      "  (1176, 5474)\t0.08433490840610683\n",
      "  (1176, 1881)\t0.11142002160842965\n",
      "  (1176, 1888)\t0.10321852722445886\n",
      "  (1176, 7643)\t0.0726562305544147\n",
      "  (1176, 85)\t0.087386293291498\n",
      "  (1176, 1135)\t0.10765260108873499\n",
      "  (1176, 3683)\t0.0665279252364043\n",
      "  (1176, 3428)\t0.11400638845899193\n",
      "  (1176, 7656)\t0.09459806852544167\n",
      "  (1176, 5078)\t0.09626084457584867\n",
      "  (1176, 3623)\t0.07644010077845431\n",
      "  (1176, 5719)\t0.08331604888077218\n",
      "  (1176, 7807)\t0.07096921898541468\n",
      "  (1176, 7014)\t0.09123552678265168\n",
      "  (1176, 7607)\t0.07330075554128133\n",
      "  (1176, 3954)\t0.14023084666343844\n",
      "  (1176, 7365)\t0.07067499369011684\n",
      "  (1176, 7572)\t0.08453457804842125\n",
      "  (1176, 5292)\t0.09899674786504273\n",
      "  (1176, 3337)\t0.052839241982304316\n",
      "  (1176, 2640)\t0.13555348451486962\n",
      "  (1176, 4464)\t0.07552551488413548\n",
      "  (1176, 381)\t0.045700734414591264\n",
      "  (1176, 7287)\t0.04956495356375027\n"
     ]
    }
   ],
   "source": [
    "tfidf_vectorizer = TfidfVectorizer(sublinear_tf=True, max_df=0.5, stop_words='english', max_features=8000)\n",
    "term_docs_train = tfidf_vectorizer.fit_transform(cleaned_train)\n",
    "term_docs_test = tfidf_vectorizer.transform(cleaned_test)\n",
    "print(term_docs_train)\n",
    "# 1176개의 점 8000 개의 feature"
   ],
   "metadata": {
    "collapsed": false,
    "pycharm": {
     "name": "#%%\n"
    }
   }
  },
  {
   "cell_type": "code",
   "execution_count": 10,
   "outputs": [
    {
     "name": "stdout",
     "output_type": "stream",
     "text": [
      "  (0, 3)\t0.1943234373521608\n",
      "  (0, 198)\t0.14246457245812405\n",
      "  (0, 381)\t0.06608659390491707\n",
      "  (0, 490)\t0.11577270054822175\n",
      "  (0, 989)\t0.17745612097336405\n",
      "  (0, 1363)\t0.14763025544055602\n",
      "  (0, 2173)\t0.16112147463788695\n",
      "  (0, 2636)\t0.23882387102172048\n",
      "  (0, 2640)\t0.11577270054822175\n",
      "  (0, 2671)\t0.18860183605007147\n",
      "  (0, 2672)\t0.09783981925668135\n",
      "  (0, 2755)\t0.23882387102172048\n",
      "  (0, 2967)\t0.12012243912234868\n",
      "  (0, 2999)\t0.17673656075986588\n",
      "  (0, 3337)\t0.07640939630093298\n",
      "  (0, 3388)\t0.08019545477281471\n",
      "  (0, 3521)\t0.13565393185264604\n",
      "  (0, 3542)\t0.07640939630093298\n",
      "  (0, 3573)\t0.11838348731190705\n",
      "  (0, 4198)\t0.30728960209367046\n",
      "  (0, 4464)\t0.10921540092393\n",
      "  (0, 4721)\t0.23882387102172048\n",
      "  (0, 4802)\t0.09765418198146887\n",
      "  (0, 4896)\t0.1943234373521608\n",
      "  (0, 5186)\t0.1392001994260587\n",
      "  :\t:\n",
      "  (1176, 4464)\t0.07552551488413548\n",
      "  (1176, 4560)\t0.14873633513020143\n",
      "  (1176, 4563)\t0.10154596203083036\n",
      "  (1176, 4702)\t0.16515340943628473\n",
      "  (1176, 4838)\t0.1997287823841358\n",
      "  (1176, 5078)\t0.09626084457584867\n",
      "  (1176, 5291)\t0.15305459051583128\n",
      "  (1176, 5292)\t0.09899674786504273\n",
      "  (1176, 5474)\t0.08433490840610683\n",
      "  (1176, 5505)\t0.14192263366472962\n",
      "  (1176, 5719)\t0.08331604888077218\n",
      "  (1176, 5753)\t0.109088485052563\n",
      "  (1176, 6790)\t0.10984044762843444\n",
      "  (1176, 6880)\t0.1106170690630531\n",
      "  (1176, 7014)\t0.09123552678265168\n",
      "  (1176, 7046)\t0.15305459051583128\n",
      "  (1176, 7287)\t0.04956495356375027\n",
      "  (1176, 7350)\t0.11691020382221999\n",
      "  (1176, 7365)\t0.07067499369011684\n",
      "  (1176, 7391)\t0.15305459051583128\n",
      "  (1176, 7572)\t0.08453457804842125\n",
      "  (1176, 7607)\t0.07330075554128133\n",
      "  (1176, 7643)\t0.0726562305544147\n",
      "  (1176, 7656)\t0.09459806852544167\n",
      "  (1176, 7807)\t0.07096921898541468\n"
     ]
    }
   ],
   "source": [
    "print(term_docs_train)"
   ],
   "metadata": {
    "collapsed": false,
    "pycharm": {
     "name": "#%%\n"
    }
   }
  },
  {
   "cell_type": "markdown",
   "source": [
    "#SVM Set up\n",
    "- kernel : SVC 에서 사용할 커널 알고리즘 지금은 linear 를 이용해서 표현한다.\n",
    "- C : 패널티 함수\n",
    "- random_state : 데이터를 섞을 때 사용\n",
    "\n",
    "SVC를 확률 모델 형태로 쓰는 법도 있음"
   ],
   "metadata": {
    "collapsed": false,
    "pycharm": {
     "name": "#%% md\n"
    }
   }
  },
  {
   "cell_type": "code",
   "execution_count": 8,
   "outputs": [],
   "source": [
    "from sklearn.svm import SVC\n",
    "svm = SVC(kernel='linear', C=1.0, random_state=42)"
   ],
   "metadata": {
    "collapsed": false,
    "pycharm": {
     "name": "#%%\n"
    }
   }
  },
  {
   "cell_type": "markdown",
   "source": [
    "#Fitting"
   ],
   "metadata": {
    "collapsed": false,
    "pycharm": {
     "name": "#%% md\n"
    }
   }
  },
  {
   "cell_type": "code",
   "execution_count": 9,
   "outputs": [
    {
     "name": "stdout",
     "output_type": "stream",
     "text": [
      "The accuracy on testing set is: 96.4%\n"
     ]
    }
   ],
   "source": [
    "svm.fit(term_docs_train, label_train)\n",
    "accuracy = svm.score(term_docs_test, label_test)\n",
    "print('The accuracy on testing set is: {0:.1f}%'.format(accuracy*100))"
   ],
   "metadata": {
    "collapsed": false,
    "pycharm": {
     "name": "#%%\n"
    }
   }
  },
  {
   "cell_type": "code",
   "execution_count": null,
   "outputs": [],
   "source": [],
   "metadata": {
    "collapsed": false,
    "pycharm": {
     "name": "#%%\n"
    }
   }
  }
 ],
 "metadata": {
  "kernelspec": {
   "display_name": "Python 3",
   "language": "python",
   "name": "python3"
  },
  "language_info": {
   "codemirror_mode": {
    "name": "ipython",
    "version": 2
   },
   "file_extension": ".py",
   "mimetype": "text/x-python",
   "name": "python",
   "nbconvert_exporter": "python",
   "pygments_lexer": "ipython2",
   "version": "2.7.6"
  }
 },
 "nbformat": 4,
 "nbformat_minor": 0
}